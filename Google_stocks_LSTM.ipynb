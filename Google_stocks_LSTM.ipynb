{
 "cells": [
  {
   "cell_type": "code",
   "execution_count": 1,
   "id": "34b48fc0",
   "metadata": {},
   "outputs": [],
   "source": [
    "import pandas as pd\n",
    "import matplotlib.pyplot as plt\n",
    "import seaborn as sns\n",
    "import numpy as np\n",
    "import warnings\n",
    "warnings.filterwarnings('ignore')"
   ]
  },
  {
   "cell_type": "code",
   "execution_count": 2,
   "id": "c56e5eb3",
   "metadata": {},
   "outputs": [],
   "source": [
    "df= pd.read_csv('../../../DataSets/GOOGL.csv')"
   ]
  },
  {
   "cell_type": "code",
   "execution_count": 3,
   "id": "11f17567",
   "metadata": {},
   "outputs": [
    {
     "data": {
      "text/html": [
       "<div>\n",
       "<style scoped>\n",
       "    .dataframe tbody tr th:only-of-type {\n",
       "        vertical-align: middle;\n",
       "    }\n",
       "\n",
       "    .dataframe tbody tr th {\n",
       "        vertical-align: top;\n",
       "    }\n",
       "\n",
       "    .dataframe thead th {\n",
       "        text-align: right;\n",
       "    }\n",
       "</style>\n",
       "<table border=\"1\" class=\"dataframe\">\n",
       "  <thead>\n",
       "    <tr style=\"text-align: right;\">\n",
       "      <th></th>\n",
       "      <th>Date</th>\n",
       "      <th>Open</th>\n",
       "      <th>High</th>\n",
       "      <th>Low</th>\n",
       "      <th>Close</th>\n",
       "      <th>Adj Close</th>\n",
       "      <th>Volume</th>\n",
       "    </tr>\n",
       "  </thead>\n",
       "  <tbody>\n",
       "    <tr>\n",
       "      <th>0</th>\n",
       "      <td>2004-08-19</td>\n",
       "      <td>50.050049</td>\n",
       "      <td>52.082081</td>\n",
       "      <td>48.028027</td>\n",
       "      <td>50.220219</td>\n",
       "      <td>50.220219</td>\n",
       "      <td>44659096</td>\n",
       "    </tr>\n",
       "    <tr>\n",
       "      <th>1</th>\n",
       "      <td>2004-08-20</td>\n",
       "      <td>50.555557</td>\n",
       "      <td>54.594597</td>\n",
       "      <td>50.300301</td>\n",
       "      <td>54.209209</td>\n",
       "      <td>54.209209</td>\n",
       "      <td>22834343</td>\n",
       "    </tr>\n",
       "    <tr>\n",
       "      <th>2</th>\n",
       "      <td>2004-08-23</td>\n",
       "      <td>55.430431</td>\n",
       "      <td>56.796799</td>\n",
       "      <td>54.579578</td>\n",
       "      <td>54.754753</td>\n",
       "      <td>54.754753</td>\n",
       "      <td>18256126</td>\n",
       "    </tr>\n",
       "    <tr>\n",
       "      <th>3</th>\n",
       "      <td>2004-08-24</td>\n",
       "      <td>55.675674</td>\n",
       "      <td>55.855858</td>\n",
       "      <td>51.836838</td>\n",
       "      <td>52.487488</td>\n",
       "      <td>52.487488</td>\n",
       "      <td>15247337</td>\n",
       "    </tr>\n",
       "    <tr>\n",
       "      <th>4</th>\n",
       "      <td>2004-08-25</td>\n",
       "      <td>52.532532</td>\n",
       "      <td>54.054054</td>\n",
       "      <td>51.991993</td>\n",
       "      <td>53.053055</td>\n",
       "      <td>53.053055</td>\n",
       "      <td>9188602</td>\n",
       "    </tr>\n",
       "  </tbody>\n",
       "</table>\n",
       "</div>"
      ],
      "text/plain": [
       "         Date       Open       High        Low      Close  Adj Close    Volume\n",
       "0  2004-08-19  50.050049  52.082081  48.028027  50.220219  50.220219  44659096\n",
       "1  2004-08-20  50.555557  54.594597  50.300301  54.209209  54.209209  22834343\n",
       "2  2004-08-23  55.430431  56.796799  54.579578  54.754753  54.754753  18256126\n",
       "3  2004-08-24  55.675674  55.855858  51.836838  52.487488  52.487488  15247337\n",
       "4  2004-08-25  52.532532  54.054054  51.991993  53.053055  53.053055   9188602"
      ]
     },
     "execution_count": 3,
     "metadata": {},
     "output_type": "execute_result"
    }
   ],
   "source": [
    "df.head()"
   ]
  },
  {
   "cell_type": "code",
   "execution_count": 4,
   "id": "ec0c19c5",
   "metadata": {},
   "outputs": [
    {
     "data": {
      "text/plain": [
       "[<matplotlib.lines.Line2D at 0x1afb9fca00>]"
      ]
     },
     "execution_count": 4,
     "metadata": {},
     "output_type": "execute_result"
    },
    {
     "data": {
      "image/png": "[encoded data removed]",
      "text/plain": [
       "<Figure size 432x288 with 1 Axes>"
      ]
     },
     "metadata": {
      "needs_background": "light"
     },
     "output_type": "display_data"
    }
   ],
   "source": [
    "plt.plot(df['Open'])"
   ]
  },
  {
   "cell_type": "code",
   "execution_count": 5,
   "id": "83e9f453",
   "metadata": {},
   "outputs": [
    {
     "data": {
      "text/plain": [
       "[<matplotlib.lines.Line2D at 0x1afdb0c040>]"
      ]
     },
     "execution_count": 5,
     "metadata": {},
     "output_type": "execute_result"
    },
    {
     "data": {
      "image/png": "[encoded data removed]",
      "text/plain": [
       "<Figure size 432x288 with 1 Axes>"
      ]
     },
     "metadata": {
      "needs_background": "light"
     },
     "output_type": "display_data"
    }
   ],
   "source": [
    "plt.plot(pd.to_datetime(df['Date']),df['Open'])"
   ]
  },
  {
   "cell_type": "code",
   "execution_count": 6,
   "id": "e5e0b394",
   "metadata": {},
   "outputs": [],
   "source": [
    "# price= df[['Open']]\n",
    "# price"
   ]
  },
  {
   "cell_type": "code",
   "execution_count": 7,
   "id": "72f46e6d",
   "metadata": {},
   "outputs": [],
   "source": [
    "price= df[['Open']]"
   ]
  },
  {
   "cell_type": "code",
   "execution_count": 8,
   "id": "844a689e",
   "metadata": {},
   "outputs": [],
   "source": [
    "from sklearn.preprocessing import MinMaxScaler "
   ]
  },
  {
   "cell_type": "code",
   "execution_count": 9,
   "id": "4fd98469",
   "metadata": {},
   "outputs": [],
   "source": [
    "scaler = MinMaxScaler()\n",
    "price_scaled = scaler.fit_transform(price)"
   ]
  },
  {
   "cell_type": "code",
   "execution_count": 10,
   "id": "f5c2be66",
   "metadata": {},
   "outputs": [
    {
     "data": {
      "text/plain": [
       "(4431, 1)"
      ]
     },
     "execution_count": 10,
     "metadata": {},
     "output_type": "execute_result"
    }
   ],
   "source": [
    "price_scaled.shape"
   ]
  },
  {
   "cell_type": "code",
   "execution_count": 11,
   "id": "a8f62886",
   "metadata": {},
   "outputs": [
    {
     "data": {
      "text/plain": [
       "(4371, 61)"
      ]
     },
     "execution_count": 11,
     "metadata": {},
     "output_type": "execute_result"
    }
   ],
   "source": [
    "X= []\n",
    "for i in range(4371):\n",
    "    row= price_scaled[i:i+61,0]\n",
    "    X.append(row)\n",
    "X= np.array(X)\n",
    "X.shape\n",
    "    "
   ]
  },
  {
   "cell_type": "code",
   "execution_count": 12,
   "id": "facc3e14",
   "metadata": {},
   "outputs": [
    {
     "data": {
      "text/plain": [
       "(4371, 60)"
      ]
     },
     "execution_count": 12,
     "metadata": {},
     "output_type": "execute_result"
    }
   ],
   "source": [
    "X_train= X[:,:-1]\n",
    "X_train.shape"
   ]
  },
  {
   "cell_type": "code",
   "execution_count": 13,
   "id": "afd105cb",
   "metadata": {},
   "outputs": [
    {
     "data": {
      "text/plain": [
       "(4371,)"
      ]
     },
     "execution_count": 13,
     "metadata": {},
     "output_type": "execute_result"
    }
   ],
   "source": [
    "y_train= X[:,-1]\n",
    "y_train.shape"
   ]
  },
  {
   "cell_type": "code",
   "execution_count": 14,
   "id": "5db9dcc9",
   "metadata": {},
   "outputs": [],
   "source": [
    "X_train= X_train.reshape(4371,60,1)"
   ]
  },
  {
   "cell_type": "markdown",
   "id": "e653a817",
   "metadata": {},
   "source": [
    "# Model Building- LSTM"
   ]
  },
  {
   "cell_type": "code",
   "execution_count": 15,
   "id": "de0e7b1b",
   "metadata": {},
   "outputs": [],
   "source": [
    "from tensorflow.keras.models import Sequential\n",
    "from tensorflow.keras.layers import LSTM, Dense"
   ]
  },
  {
   "cell_type": "code",
   "execution_count": 16,
   "id": "41c6e453",
   "metadata": {},
   "outputs": [],
   "source": [
    "model_LSTM= Sequential()\n",
    "model_LSTM.add(LSTM(99, return_sequences= True, input_shape=(60,1)))\n",
    "model_LSTM.add(LSTM(99, return_sequences= True))\n",
    "model_LSTM.add(LSTM(99, return_sequences= True))\n",
    "model_LSTM.add(LSTM(99, return_sequences= False))\n",
    "\n",
    "model_LSTM.add(Dense(1))\n",
    "\n",
    "model_LSTM.compile(loss='mean_squared_error')\n",
    "\n"
   ]
  },
  {
   "cell_type": "code",
   "execution_count": 17,
   "id": "577f0bb2",
   "metadata": {},
   "outputs": [
    {
     "name": "stdout",
     "output_type": "stream",
     "text": [
      "Epoch 1/5\n",
      "69/69 [==============================] - 52s 435ms/step - loss: 0.0155\n",
      "Epoch 2/5\n",
      "69/69 [==============================] - 28s 404ms/step - loss: 0.0037\n",
      "Epoch 3/5\n",
      "69/69 [==============================] - 28s 409ms/step - loss: 0.0028\n",
      "Epoch 4/5\n",
      "69/69 [==============================] - 28s 412ms/step - loss: 0.0020\n",
      "Epoch 5/5\n",
      "69/69 [==============================] - 32s 461ms/step - loss: 0.0014\n"
     ]
    },
    {
     "data": {
      "text/plain": [
       "<keras.callbacks.History at 0x1a88824970>"
      ]
     },
     "execution_count": 17,
     "metadata": {},
     "output_type": "execute_result"
    }
   ],
   "source": [
    "model_LSTM.fit(X_train,y_train, epochs=5, batch_size= 64)"
   ]
  },
  {
   "cell_type": "code",
   "execution_count": 18,
   "id": "e3baf84a",
   "metadata": {},
   "outputs": [],
   "source": [
    "# Basic"
   ]
  },
  {
   "cell_type": "code",
   "execution_count": null,
   "id": "2cb8013b",
   "metadata": {},
   "outputs": [],
   "source": []
  },
  {
   "cell_type": "code",
   "execution_count": null,
   "id": "18e7cba6",
   "metadata": {},
   "outputs": [],
   "source": []
  }
 ],
 "metadata": {
  "kernelspec": {
   "display_name": "Python [conda env:tf_env]",
   "language": "python",
   "name": "conda-env-tf_env-py"
  },
  "language_info": {
   "codemirror_mode": {
    "name": "ipython",
    "version": 3
   },
   "file_extension": ".py",
   "mimetype": "text/x-python",
   "name": "python",
   "nbconvert_exporter": "python",
   "pygments_lexer": "ipython3",
   "version": "3.8.13"
  }
 },
 "nbformat": 4,
 "nbformat_minor": 5
}
